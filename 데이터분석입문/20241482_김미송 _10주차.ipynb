{
 "cells": [
  {
   "cell_type": "code",
   "execution_count": null,
   "metadata": {
    "vscode": {
     "languageId": "plaintext"
    }
   },
   "outputs": [],
   "source": [
    "import csv\n",
    "\n",
    "f = open('seoul.csv', encoding='cp 949')\n",
    "data = csv.reader(f)\n",
    "\n",
    "header = next(data)\n",
    "\n",
    "for row in data:\n",
    "    print(row[4])\n",
    "\n",
    "f.close()\n"
   ]
  },
  {
   "cell_type": "code",
   "execution_count": null,
   "metadata": {
    "vscode": {
     "languageId": "plaintext"
    }
   },
   "outputs": [],
   "source": [
    "import csv\n",
    "\n",
    "f = open('seoul.csv', encoding='cp 949')\n",
    "data = csv.reader(f)\n",
    "\n",
    "header = next(data)\n",
    "\n",
    "result = []\n",
    "\n",
    "for row in data:\n",
    "    if row[4] != '':\n",
    "        result.append(float(row[4]))\n",
    "\n",
    "f.close()\n",
    "print(len(result))"
   ]
  },
  {
   "cell_type": "code",
   "execution_count": null,
   "metadata": {
    "vscode": {
     "languageId": "plaintext"
    }
   },
   "outputs": [],
   "source": [
    "import csv\n",
    "\n",
    "f = open('seoul.csv', encoding='cp 949')\n",
    "data = csv.reader(f)\n",
    "\n",
    "header = next(data)\n",
    "\n",
    "result = []\n",
    "\n",
    "for row in data:\n",
    "    if row[4] != '':\n",
    "        result.append(float(row[4]))\n",
    "\n",
    "f.close()\n",
    "\n",
    "plt.plot(result, 'r')\n",
    "plt.xlabel('Day')\n",
    "plt.ylabel('The highest temperature')\n",
    "plt.show()"
   ]
  },
  {
   "cell_type": "code",
   "execution_count": null,
   "metadata": {
    "vscode": {
     "languageId": "plaintext"
    }
   },
   "outputs": [],
   "source": [
    "import csv\n",
    "\n",
    "f = open('seoul.csv', encoding='cp 949')\n",
    "data = csv.reader(f)\n",
    "\n",
    "header = next(data)\n",
    "\n",
    "result = []\n",
    "\n",
    "for row in data:\n",
    "    if row[4] != '':\n",
    "        result.append(float(row[4]))\n",
    "\n",
    "f.close()\n",
    "\n",
    "plt.figure(figsize = (10, 2))\n",
    "plt.plot(result, 'r')\n",
    "plt.xlabel('Day')\n",
    "plt.ylabel('The highest temperature')\n",
    "plt.show()"
   ]
  },
  {
   "cell_type": "code",
   "execution_count": null,
   "metadata": {
    "vscode": {
     "languageId": "plaintext"
    }
   },
   "outputs": [],
   "source": [
    "s = 'Happy New Year!'\n",
    "print(s.split())"
   ]
  },
  {
   "cell_type": "code",
   "execution_count": null,
   "metadata": {
    "vscode": {
     "languageId": "plaintext"
    }
   },
   "outputs": [],
   "source": [
    "data = '2020-12-25'\n",
    "print(data.split('-'))"
   ]
  },
  {
   "cell_type": "code",
   "execution_count": null,
   "metadata": {
    "vscode": {
     "languageId": "plaintext"
    }
   },
   "outputs": [],
   "source": [
    "data = '2020-12-25'\n",
    "\n",
    "print(data.split('-')[0])\n",
    "print(data.split('-')[1])\n",
    "print(data.split('-')[2])"
   ]
  },
  {
   "cell_type": "code",
   "execution_count": null,
   "metadata": {
    "vscode": {
     "languageId": "plaintext"
    }
   },
   "outputs": [],
   "source": [
    "import csv\n",
    "\n",
    "f = open('seoul.csv', encoding='cp 949')\n",
    "data = csv.reader(f)\n",
    "\n",
    "header = next(data)\n",
    "\n",
    "result = []\n",
    "\n",
    "for row in data:\n",
    "    if row[4] != '':\n",
    "        result.append(float(row[4]))\n",
    "\n",
    "f.close()\n",
    "\n",
    "plt.figure(figsize = (10, 2))\n",
    "plt.plot(result, 'r')\n",
    "plt.xlabel('Day (December)')\n",
    "plt.ylabel('The highest temperature')\n",
    "plt.show()"
   ]
  },
  {
   "cell_type": "code",
   "execution_count": null,
   "metadata": {
    "vscode": {
     "languageId": "plaintext"
    }
   },
   "outputs": [],
   "source": [
    "import csv \n",
    "import matplolib.pyplot as plt\n",
    "\n",
    "f = open('seoul.csv', encoding='cp949')\n",
    "data = csv.reader(f)\n",
    "next(data)\n",
    "result = []\n",
    "\n",
    "for row in data :\n",
    "    if row[-1] != :\n",
    "        if '12-25' in row[0]:\n",
    "            result.append(float(row[-1]))\n",
    "\n",
    "plt.figure(figsize = (10, 2))\n",
    "plt.plot(result, 'hotpink')\n",
    "plt.xlabel('Day (December 25)')\n",
    "plt.ylabel('The highest temperature')\n",
    "plt.show()"
   ]
  },
  {
   "cell_type": "code",
   "execution_count": null,
   "metadata": {
    "vscode": {
     "languageId": "plaintext"
    }
   },
   "outputs": [],
   "source": [
    "import csv\n",
    "import matplolib.pyplot as plot\n",
    "\n",
    "f = open('seoul.csv', encoding='cp 949')\n",
    "data = csv.reader(f)\n",
    "\n",
    "header = next(data)\n",
    "\n",
    "mean = []\n",
    "low = []\n",
    "high = []\n",
    "\n",
    "for row in data:\n",
    "    if (row[2] != '') and (row[3]!= '') and (row [4] !=''):\n",
    "        if (row[0].split('-')[1] == '12') and (row[0].split('-')[2] == '25'):\n",
    "        mean.append(float(row[2]))\n",
    "        low.append(float(row[3]))\n",
    "        high.append(float(row[4]))\n",
    "\n",
    "f.close()\n",
    "\n",
    "plt.figure(figsize = (10, 2))\n",
    "plt.plot(mean, 'k')\n",
    "plt.plot(low, 'b')\n",
    "plt.plot(high, 'r')\n",
    "plt.xlabel('Day (December 25)')\n",
    "plt.ylabel('temperature')\n",
    "plt.show()"
   ]
  },
  {
   "cell_type": "code",
   "execution_count": null,
   "metadata": {
    "vscode": {
     "languageId": "plaintext"
    }
   },
   "outputs": [],
   "source": [
    "plt.rc('font', family='malgun Gothic')\n",
    "plt.title('크리스마스의 기온 변화 그래프')\n",
    "\n",
    "plt.rcParams['axes.unicode_minus'] = False\n",
    "\n",
    "plt.rc('font', family='malgun Gothic')\n",
    "plt.rcParams['font.family'] = 'malgun Gothic'\n",
    "plt.rc('axes', unicode_minus=False)\n",
    "plt.rcParams['axes.unicode_minus'] = False\n"
   ]
  },
  {
   "cell_type": "code",
   "execution_count": null,
   "metadata": {
    "vscode": {
     "languageId": "plaintext"
    }
   },
   "outputs": [],
   "source": [
    "plt.rc('font', family='malgun Gothic')\n",
    "plt.rcParams['axes.unicode_minus'] = False\n",
    "\n",
    "plt.figure(figsize=(10,4))\n",
    "plt.plot(mean, 'k', label='mean')\n",
    "plt.plot(low, 'b', label='low')\n",
    "plt.plot(high, 'r', label='high')\n",
    "\n",
    "plt.title('크리스마스의 기온 변화 그래프')\n",
    "plt.xlabel('Day (December 25)')\n",
    "plt.ylabel('Temperature')\n",
    "plt.legend()\n",
    "plt.grid()\n",
    "plt.show()\n"
   ]
  },
  {
   "cell_type": "code",
   "execution_count": null,
   "metadata": {
    "vscode": {
     "languageId": "plaintext"
    }
   },
   "outputs": [],
   "source": [
    "import csv \n",
    "import matplolib.pyplot as plt\n",
    "\n",
    "f = open('seoul.csv', encoding='cp949')\n",
    "data = csv.reader(f)\n",
    "next(data)\n",
    "\n",
    "header = next(data)\n",
    "\n",
    "temp_day= []\n",
    "temp_mean = []\n",
    "year = []\n",
    "\n",
    "for low in data:\n",
    "    if int(row[0].split('-')[0]) > 1907:\n",
    "        if row[2] != '':\n",
    "        temp_day.append(float(row[2]))\n",
    "        if (row[0].split('-')[1] == '12') and (row[0].split('-')[2] == '31'):\n",
    "        year.append(int(row[0].split('-')[0]))\n",
    "        temp_mean.append(sum(temp_day) / len(temp-day))\n",
    "        temp_day = []"
   ]
  },
  {
   "cell_type": "code",
   "execution_count": null,
   "metadata": {
    "vscode": {
     "languageId": "plaintext"
    }
   },
   "outputs": [],
   "source": [
    "import csv \n",
    "import matplolib.pyplot as plt\n",
    "\n",
    "f = open('seoul.csv', encoding='cp949')\n",
    "data = csv.reader(f)\n",
    "next(data)\n",
    "\n",
    "header = next(data)\n",
    "\n",
    "temp_day= []\n",
    "temp_mean = []\n",
    "year = []\n",
    "\n",
    "for low in data:\n",
    "    if int(row[0].split('-')[0]) > 1907:\n",
    "        if row[2] != '':\n",
    "        temp_day.append(float(row[2]))\n",
    "        if (row[0].split('-')[1] == '12') and (row[0].split('-')[2] == '31'):\n",
    "        year.append(int(row[0].split('-')[0]))\n",
    "        temp_mean.append(sum(temp_day) / len(temp-day))\n",
    "        temp_day = []\n",
    "\n",
    "f.close()\n",
    "\n",
    "plt.figure(figsize=(10, 4))\n",
    "plt.rc('font', family= 'malgun Gothic')\n",
    "plt.tilte('평균 기온 변화 그래프')\n",
    "plt.plot(year, temp_mean, color='k', marker='d')\n",
    "plt.xlabel('year')\n",
    "plt.ylabel('Average Temperature')\n",
    "plt.grid()\n",
    "plt.show()\n"
   ]
  },
  {
   "cell_type": "code",
   "execution_count": null,
   "metadata": {
    "vscode": {
     "languageId": "plaintext"
    }
   },
   "outputs": [],
   "source": [
    "import matplolib.pyplot as plt\n",
    "import numpy as numpy\n",
    "\n",
    "height = [16,162,165,168,170,172,175,178,180,182]\n",
    "weight = [55,57,70,72,65,68,70,73,83,88]\n",
    "\n",
    "degree = 1 \n",
    "coefficients = np.pilyfit(height, weight, degree)\n",
    "polynomial = np.poly1d(coefficients)\n",
    "\n",
    "height_range = np.linspace(min(height), max(height), 100)\n",
    "\n",
    "plt.rc('font', family= 'malgun Gothic')\n",
    "plt.rc('axes', unicode_minus = false)\n",
    "\n",
    "plt.scatter(height, weight, label='데이터포인트')\n",
    "plt.plot(height_range, polynomial(height_range), color-'red', label'추세선')\n",
    "\n"
   ]
  },
  {
   "cell_type": "code",
   "execution_count": null,
   "metadata": {
    "vscode": {
     "languageId": "plaintext"
    }
   },
   "outputs": [],
   "source": [
    "import matplolib.pyplot as plt\n",
    "import numpy as numpy\n",
    "\n",
    "height = [16,162,165,168,170,172,175,178,180,182]\n",
    "weight = [55,57,70,72,65,68,70,73,83,88]\n",
    "\n",
    "degree = 1 \n",
    "coefficients = np.pilyfit(height, weight, degree)\n",
    "polynomial = np.poly1d(coefficients)\n",
    "\n",
    "height_range = np.linspace(min(height), max(height), 100)\n",
    "\n",
    "plt.rc('font', family= 'malgun Gothic')\n",
    "plt.rc('axes', unicode_minus = false)\n",
    "\n",
    "plt.scatter(height, weight, label='데이터포인트')\n",
    "plt.plot(height_range, polynomial(height_range), color-'red', label'추세선')\n",
    "\n",
    "\n",
    "plt.xlabel('키 (cm)')\n",
    "plt.ylabel('몸무게ㅔ (kg)')\n",
    "plt.title('키와 몸무게의 추세선')\n",
    "plt.legend()\n",
    "\n",
    "plt.show()"
   ]
  },
  {
   "cell_type": "code",
   "execution_count": null,
   "metadata": {
    "vscode": {
     "languageId": "plaintext"
    }
   },
   "outputs": [],
   "source": [
    "plt.fiure(figsize = (10,4))\n",
    "plt.scatter(year, temp_mean, color='b', marker='*')\n",
    "\n",
    "coeff = np.poltfit(year, temp_mean, 1)\n",
    "poly = np.poly1d(coeff)\n",
    "plt.plot(year, poly(year), '--r')\n"
   ]
  },
  {
   "cell_type": "markdown",
   "metadata": {},
   "source": [
    "import csv \n",
    "import matplolib.pyplot as plt\n",
    "\n",
    "f = open('seoul.csv', encoding='cp949')\n",
    "data = csv.reader(f)\n",
    "next(data)\n",
    "\n",
    "header = next(data)\n",
    "\n",
    "temp_day= []\n",
    "temp_mean = []\n",
    "year = []\n",
    "\n",
    "for low in data:\n",
    "    if int(row[0].split('-')[0]) > 1907:\n",
    "        if row[2] != '':\n",
    "        temp_day.append(float(row[2]))\n",
    "        if (row[0].split('-')[1] == '12') and (row[0].split('-')[2] == '31'):\n",
    "        year.append(int(row[0].split('-')[0]))\n",
    "        temp_mean.append(sum(temp_day) / len(temp-day))\n",
    "        temp_day = []\n",
    "\n",
    "f.close()\n",
    "\n",
    "\n",
    "plt.rcParams['font.family'] = 'malgun Gothic'\n",
    "plt.rcParams['axes.unicode_minus] = false\n",
    "\n",
    "plt.figure(figsize = (10,4))\n",
    "plt.scatter(year, temp_mean, color ='b', marker='*')\n",
    "\n",
    "coeff= np.polyfit(year, temp_mean, 1)\n",
    "poly = np.poly1d(coeff)\n",
    "plt.polt(year, poly(year), '--r')\n",
    "\n",
    "plt.tilte('평균 기온 변화 그래프')\n",
    "plt.xlabel('year')\n",
    "plt.ylabel('Average Temperature')\n",
    "plt.grid()\n",
    "plt.show()\n",
    "print(f'추세선의 기울기 : {coeff[0]}')"
   ]
  },
  {
   "cell_type": "code",
   "execution_count": null,
   "metadata": {
    "vscode": {
     "languageId": "plaintext"
    }
   },
   "outputs": [],
   "source": [
    "import csv \n",
    "import matplotlib.pyplot as pyplot\n",
    "\n",
    "f = open('seoul.csv',encoding = 'cp949')\n",
    "data = csv.reader(f)\n",
    "header = next(data)\n",
    "result = []\n",
    "\n",
    "for row in data:\n",
    "    if row[4] != '':\n",
    "        result.append(float(row[4]))\n",
    "\n",
    "plt.hist(result, bins= 100, color ='r')\n",
    "plt.show()"
   ]
  },
  {
   "cell_type": "code",
   "execution_count": null,
   "metadata": {
    "vscode": {
     "languageId": "plaintext"
    }
   },
   "outputs": [],
   "source": [
    "a,b,c = plt.hist(result,bins = 100, color = 'r')\n",
    "print(f'구간 빈도수 앞 5개: {a[:5]}')\n",
    "print(f'구간 빈도수 뒤 5개: {a[:-5]}')\n",
    "print(f'구간 경계수 앞 5개: {a[:5]}')\n",
    "print(f'구간 경계수 뒤 5개: {a[:-5]}')\n",
    "print()\n",
    "print(f'하나의 구간의 크기(직접계산) : {(b[-1]-b[0])/100 : .3f}')\n",
    "print(f'하나의 구간의 크기(자동계산) : {b[-1]-b[0] : .3f}')\n"
   ]
  },
  {
   "cell_type": "code",
   "execution_count": null,
   "metadata": {
    "vscode": {
     "languageId": "plaintext"
    }
   },
   "outputs": [],
   "source": [
    "a = []\n",
    "for i in range(5):\n",
    "    a.append(i)\n",
    "print(a)\n",
    "\n",
    "b = [i for i in range(5)]\n",
    "print(b)\n",
    "\n",
    "print([i ** 2 for i in range(5)])\n",
    "print([pow(i, 3) for i in range(5)])"
   ]
  },
  {
   "cell_type": "code",
   "execution_count": null,
   "metadata": {
    "vscode": {
     "languageId": "plaintext"
    }
   },
   "outputs": [],
   "source": [
    "print([i+1] for i in range(5))\n",
    "print([(i +1, ) for i in range(5)])\n",
    "print([{i: i **2} for i in range(5)])\n",
    "print([{i+1} for i in rage(5)])\n",
    "\n"
   ]
  },
  {
   "cell_type": "code",
   "execution_count": null,
   "metadata": {
    "vscode": {
     "languageId": "plaintext"
    }
   },
   "outputs": [],
   "source": [
    "print([i for i in range(6)])\n",
    "print([i for i nin range(6) if i%2 == 0])\n",
    "print([i for i in range(6) if i%2 == 1])"
   ]
  },
  {
   "cell_type": "code",
   "execution_count": null,
   "metadata": {
    "vscode": {
     "languageId": "plaintext"
    }
   },
   "outputs": [],
   "source": [
    "age = 10 \n",
    "adult= '성인' if age >=  18 else '미성년'\n",
    "print(adult))\n",
    "\n",
    "print([0 if i %2 == 0 else 1 fir i in range(10)])\n",
    "\n",
    "print (['even'if i %2 == 0 else 'odd' for i in range(10)])\n",
    "\n"
   ]
  },
  {
   "cell_type": "code",
   "execution_count": null,
   "metadata": {
    "vscode": {
     "languageId": "plaintext"
    }
   },
   "outputs": [],
   "source": [
    "import csv\n",
    "import matplotlib.pyplot as plt\n",
    "\n",
    "f = open('seloul.csv', encoding='cp949')\n",
    "data = csv.reader(f)\n",
    "next(data)\n",
    "\n",
    "result = [float(row[-1]) for row in data if row[-1]]\n",
    "\n",
    "plt.hist(result, bins = 100, color = 'r')\n",
    "plt.show()\n"
   ]
  },
  {
   "cell_type": "code",
   "execution_count": null,
   "metadata": {
    "vscode": {
     "languageId": "plaintext"
    }
   },
   "outputs": [],
   "source": [
    "import csv\n",
    "import matplotlib.pyplot as plt\n",
    "\n",
    "f = open('seloul.csv', encoding='cp949')\n",
    "data = csv.reader(f)\n",
    "header = next(data)\n",
    "aug = []\n",
    "\n",
    "for row in data:\n",
    "month = row[0].split('-')[1]\n",
    "if row[4] != '':\n",
    "if month == '08':\n",
    "aug.append(float(row[4]))\n",
    "\n",
    "plt.hist(aug, bins= 100, color='r')\n",
    "plt.show()\n",
    "\n"
   ]
  },
  {
   "cell_type": "code",
   "execution_count": null,
   "metadata": {
    "vscode": {
     "languageId": "plaintext"
    }
   },
   "outputs": [],
   "source": [
    "import csv\n",
    "import matplotlib.pyplot as plt\n",
    "\n",
    "f = open('seloul.csv', encoding='cp949')\n",
    "data = csv.reader(f)\n",
    "header = next(data)\n",
    "aug = []\n",
    "jan = []\n",
    "\n",
    "for row in data:\n",
    "month = row[0].split('-')[1]\n",
    "if row[4] != '':\n",
    "    if month == '01':\n",
    "        jan.append(float(row[-1]))\n",
    "    if month == '08':\n",
    "        aug.append(float(row[4]))\n",
    "\n",
    "plt.figure(dpi = 150)\n",
    "plt.hist(augm bins = 100, color = 'r', label = 'Aug')\n",
    "plt.hist(jan, bins = 100, color = 'b', label = 'Jan')\n",
    "plt.legend()\n",
    "plt.show()\n",
    "\n"
   ]
  },
  {
   "cell_type": "code",
   "execution_count": null,
   "metadata": {
    "vscode": {
     "languageId": "plaintext"
    }
   },
   "outputs": [],
   "source": [
    "import csv\n",
    "import matplotlib.pyplot as plt\n",
    "f= open('seloul.csv', encoding='cp949')\n",
    "data = csv.reader(f)\n",
    "next(data)\n",
    "\n",
    "result = [float(row[-1]) for row in data if row[1-]]\n",
    "plt.boxploat(result)\n",
    "plt.show"
   ]
  },
  {
   "cell_type": "code",
   "execution_count": null,
   "metadata": {
    "vscode": {
     "languageId": "plaintext"
    }
   },
   "outputs": [],
   "source": [
    "import csv\n",
    "import matplotlib.pyplot as plt\n",
    "\n",
    "f= open('seloul.csv', encoding='cp949')\n",
    "data = csv.reader(f)\n",
    "header = next(data)\n",
    "jan = []\n",
    "aug = []\n",
    "\n",
    "for row in data:\n",
    "    month = row[0].split('-')[1]\n",
    "    if row[4] != '':\n",
    "        if month == '01':\n",
    "            jan.append(float(row[4]))\n",
    "        elif month == '08':\n",
    "            aug.append(float(row[4]))\n",
    "\n",
    "plt.boxplot(jan)\n",
    "plt.boxplot(aug)\n",
    "plt.show()\n"
   ]
  },
  {
   "cell_type": "code",
   "execution_count": null,
   "metadata": {
    "vscode": {
     "languageId": "plaintext"
    }
   },
   "outputs": [],
   "source": [
    "import csv\n",
    "import matplotlib.pyplot as plt\n",
    "\n",
    "f= open('seloul.csv', encoding='cp949')\n",
    "data = csv.reader(f)\n",
    "header = next(data)\n",
    "jan = []\n",
    "aug = []\n",
    "\n",
    "for row in data:\n",
    "    month = row[0].split('-')[1]\n",
    "    if row[4] != '':\n",
    "        if month == '01':\n",
    "            jan.append(float(row[4]))\n",
    "        elif month == '08':\n",
    "            aug.append(float(row[4]))\n",
    "\n",
    "plt.boxplot([jan, aug])\n",
    "plt.show()"
   ]
  },
  {
   "cell_type": "code",
   "execution_count": null,
   "metadata": {
    "vscode": {
     "languageId": "plaintext"
    }
   },
   "outputs": [],
   "source": [
    "# dkdkkdk"
   ]
  },
  {
   "cell_type": "code",
   "execution_count": null,
   "metadata": {
    "vscode": {
     "languageId": "plaintext"
    }
   },
   "outputs": [],
   "source": [
    "import matplotlib.pyplot as plt\n",
    "plt.bar([0,1,2,4,6,10], [1,2,3,5,6,7])\n",
    "plt.show()"
   ]
  },
  {
   "cell_type": "code",
   "execution_count": null,
   "metadata": {
    "vscode": {
     "languageId": "plaintext"
    }
   },
   "outputs": [],
   "source": [
    "import matplotlib.pyplot as plt\n",
    "plt.bar(range(6), [1,2,3,5,6,7])\n",
    "plt.show()"
   ]
  },
  {
   "cell_type": "code",
   "execution_count": null,
   "metadata": {
    "vscode": {
     "languageId": "plaintext"
    }
   },
   "outputs": [],
   "source": [
    "import matplotlib.pyplot as plt\n",
    "\n",
    "fig, ax = plt.subplots()\n",
    "\n",
    "fruits = ['apple', 'blueberry', 'cherry', 'orange']\n",
    "counts = [40,100,30,55]\n",
    "bar_labels = ['red', 'blue', 'brown', 'orange']\n",
    "bar_colors = ['red', 'blue', 'brown', 'orange']\n",
    "ax.bar(fruits, counts, label = bar_labels, color=bar_colors)\n",
    "\n",
    "ax.set_ylabel('fruits supply')\n",
    "ax.set_title('fruits supply by kind and color')\n",
    "ax.legend(title='fruit color')\n",
    "\n",
    "plt.show()\n"
   ]
  },
  {
   "cell_type": "code",
   "execution_count": null,
   "metadata": {
    "vscode": {
     "languageId": "plaintext"
    }
   },
   "outputs": [],
   "source": [
    "import numpy as np \n",
    "import matplotlib.pyplot as plt\n",
    "\n",
    "x = 0.5 + np.arange(8)\n",
    "y = [4.8, 5.5,3.5,4.6,6.5,6.6,2.6,3.0]\n",
    "\n",
    "fig, ax = plt.subplots()\n",
    "\n",
    "ax.bar(x, y, edgecolor='red')\n",
    "ax.set(xlim =(0,8), xticks=np.arange(1,8),\n",
    "        ylim=(0,8), yticks=np.arange(1,8))\n",
    "\n",
    "plt.show()"
   ]
  },
  {
   "cell_type": "code",
   "execution_count": null,
   "metadata": {
    "vscode": {
     "languageId": "plaintext"
    }
   },
   "outputs": [],
   "source": [
    "import matplotlib.pyplot as plt\n",
    "\n",
    "plt.barh(range(6), [1,2,3,5,6,7])\n",
    "plt.show()"
   ]
  },
  {
   "cell_type": "code",
   "execution_count": null,
   "metadata": {
    "vscode": {
     "languageId": "plaintext"
    }
   },
   "outputs": [],
   "source": [
    "import matplotlib.pyplot as plt\n",
    "impot numpy as np\n",
    "\n",
    "spcies = (\n",
    "    \"Adelie\\n $ \\\\mu=$37.66g\",\n",
    "    \"Chinstrap\\n $ \\\\mu= $3733.09g\",\n",
    "    \"Gentoo\\n $\\\\mu=576.02g$\",\n",
    ")\n",
    "weight_counts = {\n",
    "\"Below\" : np.array([70,31,58]),\n",
    "\"Above\":np.array([82,37,66])\n",
    "\n",
    "}\n",
    "width = 0.5\n",
    "\n",
    "fig, ax = plt.subplots()\n",
    "bottom.np.zeros(3)\n",
    "\n",
    "for boolean, weight_count in weight_counts items():\n",
    "    p = ax.bar(spexies, weight_count, width, label=boolean, bottom=bottom)\n",
    "    bottom += weight_count\n",
    "\n",
    "ax.set_title(\"Number of penguins with Above average body mass\")\n",
    "ax.legend(loc=\"uppwe right\")\n",
    "\n",
    "plt.show()\n",
    "\n"
   ]
  },
  {
   "cell_type": "code",
   "execution_count": null,
   "metadata": {
    "vscode": {
     "languageId": "plaintext"
    }
   },
   "outputs": [],
   "source": [
    "import matplotlib.pyplot as plt\n",
    "impot numpy as np\n",
    "\n",
    "\n",
    "species = (\"Adelie\", \"Chinstrap\", \"Gentoo\")\n",
    "sex_counts = {\n",
    "'Male': np.array([73,34,61]),\n",
    "'Female': np.array([73,34,58]),\n",
    "\n",
    "}\n",
    "width = 0.7\n",
    "\n",
    "fig, ax =plt.subplots()\n",
    "bottom = np.zeros(3)\n",
    "\n",
    "for sex, sex_count in sex_counts.items():\n",
    "    p = ax.bar(species, sex_count, width, label= sex, bottom = bottom)\n",
    "    bottom += sex_count\n",
    "\n",
    "    ax.bar_label(p, label_type ='center')\n",
    "\n",
    "ax.set_title('Number of penguins by sex')\n",
    "as.legend()\n",
    "plt.show()"
   ]
  }
 ],
 "metadata": {
  "language_info": {
   "name": "python"
  }
 },
 "nbformat": 4,
 "nbformat_minor": 2
}
