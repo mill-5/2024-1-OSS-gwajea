{
 "cells": [
  {
   "cell_type": "code",
   "execution_count": 1,
   "id": "941533f2-723b-45c3-b54d-b04a8f665369",
   "metadata": {},
   "outputs": [
    {
     "data": {
      "text/plain": [
       "'3.12.4 | packaged by Anaconda, Inc. | (main, Jun 18 2024, 15:03:56) [MSC v.1929 64 bit (AMD64)]'"
      ]
     },
     "execution_count": 1,
     "metadata": {},
     "output_type": "execute_result"
    }
   ],
   "source": [
    "import sys\n",
    "sys.version"
   ]
  },
  {
   "cell_type": "code",
   "execution_count": 3,
   "id": "8023546f-8ecc-4816-bceb-096490989439",
   "metadata": {},
   "outputs": [
    {
     "data": {
      "text/plain": [
       "['C:\\\\Users\\\\109-1\\\\anaconda3',\n",
       " 'C:\\\\Users\\\\109-1\\\\anaconda3\\\\Lib\\\\site-packages']"
      ]
     },
     "execution_count": 3,
     "metadata": {},
     "output_type": "execute_result"
    }
   ],
   "source": [
    "import site\n",
    "site.getsitepackages()"
   ]
  },
  {
   "cell_type": "code",
   "execution_count": 7,
   "id": "61297772-91ad-4c02-8aeb-b06bbf541705",
   "metadata": {},
   "outputs": [
    {
     "data": {
      "text/plain": [
       "(int, float)"
      ]
     },
     "execution_count": 7,
     "metadata": {},
     "output_type": "execute_result"
    }
   ],
   "source": [
    "type(1), type(3.5)"
   ]
  },
  {
   "cell_type": "code",
   "execution_count": 9,
   "id": "62ad92cf-c028-4dc8-bd77-cbf360beafe5",
   "metadata": {},
   "outputs": [
    {
     "data": {
      "text/plain": [
       "(str, bool)"
      ]
     },
     "execution_count": 9,
     "metadata": {},
     "output_type": "execute_result"
    }
   ],
   "source": [
    "type('py'), type(True)"
   ]
  },
  {
   "cell_type": "code",
   "execution_count": 11,
   "id": "3ba7876d-ed8c-4073-b376-521fcfc0d970",
   "metadata": {},
   "outputs": [
    {
     "data": {
      "text/plain": [
       "(list, tuple)"
      ]
     },
     "execution_count": 11,
     "metadata": {},
     "output_type": "execute_result"
    }
   ],
   "source": [
    "type([]), type((1, ))"
   ]
  },
  {
   "cell_type": "code",
   "execution_count": 13,
   "id": "d456ed61-7dee-46f5-b315-15a78217cbda",
   "metadata": {},
   "outputs": [
    {
     "data": {
      "text/plain": [
       "(dict, set)"
      ]
     },
     "execution_count": 13,
     "metadata": {},
     "output_type": "execute_result"
    }
   ],
   "source": [
    "type({1:1, 2:4}), type({1,2,3})"
   ]
  },
  {
   "cell_type": "code",
   "execution_count": 17,
   "id": "03af01ec-fa12-464a-8a24-fd160533d8b0",
   "metadata": {},
   "outputs": [
    {
     "data": {
      "text/plain": [
       "(7, 4, 15, 1.5, 1)"
      ]
     },
     "execution_count": 17,
     "metadata": {},
     "output_type": "execute_result"
    }
   ],
   "source": [
    "3 + 4, 10 - 6, 3*5, 3/2, 3//2"
   ]
  },
  {
   "cell_type": "code",
   "execution_count": 19,
   "id": "c2d88a66-790a-4c90-bdb0-5c1892bffe3d",
   "metadata": {},
   "outputs": [
    {
     "data": {
      "text/plain": [
       "(9, 1)"
      ]
     },
     "execution_count": 19,
     "metadata": {},
     "output_type": "execute_result"
    }
   ],
   "source": [
    "3 **2, 10 % 3"
   ]
  },
  {
   "cell_type": "code",
   "execution_count": 21,
   "id": "8d77de31-09c4-45a8-98b5-840e636e424c",
   "metadata": {},
   "outputs": [
    {
     "data": {
      "text/plain": [
       "'python'"
      ]
     },
     "execution_count": 21,
     "metadata": {},
     "output_type": "execute_result"
    }
   ],
   "source": [
    "'py' + 'thon'"
   ]
  },
  {
   "cell_type": "code",
   "execution_count": 23,
   "id": "5920fa73-25e6-47de-b3df-4e4d98db8577",
   "metadata": {},
   "outputs": [
    {
     "data": {
      "text/plain": [
       "'pypypy'"
      ]
     },
     "execution_count": 23,
     "metadata": {},
     "output_type": "execute_result"
    }
   ],
   "source": [
    "'py' * 3"
   ]
  },
  {
   "cell_type": "code",
   "execution_count": 25,
   "id": "19b581cc-b69d-4519-b1d9-172fae016bb6",
   "metadata": {},
   "outputs": [
    {
     "data": {
      "text/plain": [
       "(3, 1)"
      ]
     },
     "execution_count": 25,
     "metadata": {},
     "output_type": "execute_result"
    }
   ],
   "source": [
    "divmod(10,3)"
   ]
  },
  {
   "cell_type": "code",
   "execution_count": 27,
   "id": "8ef15569-6f1d-462a-b457-3dcbdcf4fd90",
   "metadata": {},
   "outputs": [
    {
     "data": {
      "text/plain": [
       "33.56"
      ]
     },
     "execution_count": 27,
     "metadata": {},
     "output_type": "execute_result"
    }
   ],
   "source": [
    "int('30') + float('3.56')"
   ]
  },
  {
   "cell_type": "code",
   "execution_count": 29,
   "id": "62e23b01-3715-4f42-bf39-caaa5e9e9aed",
   "metadata": {},
   "outputs": [
    {
     "data": {
      "text/plain": [
       "33.56"
      ]
     },
     "execution_count": 29,
     "metadata": {},
     "output_type": "execute_result"
    }
   ],
   "source": [
    "int('30') + float('3.56')"
   ]
  },
  {
   "cell_type": "code",
   "execution_count": 31,
   "id": "9face78e-b8df-4011-b944-e10891dad9db",
   "metadata": {},
   "outputs": [
    {
     "data": {
      "text/plain": [
       "(10, False)"
      ]
     },
     "execution_count": 31,
     "metadata": {},
     "output_type": "execute_result"
    }
   ],
   "source": [
    "abs(-10), bool(0)"
   ]
  },
  {
   "cell_type": "code",
   "execution_count": 33,
   "id": "acbcf2a2-cf62-4a70-8e52-8426bc951834",
   "metadata": {},
   "outputs": [
    {
     "data": {
      "text/plain": [
       "('Z', 97, 65)"
      ]
     },
     "execution_count": 33,
     "metadata": {},
     "output_type": "execute_result"
    }
   ],
   "source": [
    "chr(90), ord('a'), ord('A')"
   ]
  },
  {
   "cell_type": "code",
   "execution_count": 35,
   "id": "c45c04a9-b81b-4085-b8b6-500bcf26e7b4",
   "metadata": {},
   "outputs": [
    {
     "data": {
      "text/plain": [
       "23"
      ]
     },
     "execution_count": 35,
     "metadata": {},
     "output_type": "execute_result"
    }
   ],
   "source": [
    "eval('3 + 4 * 5')"
   ]
  },
  {
   "cell_type": "code",
   "execution_count": 37,
   "id": "b38476b1-1022-479f-b23b-fb911b3b9c35",
   "metadata": {},
   "outputs": [
    {
     "data": {
      "text/plain": [
       "140723588121184"
      ]
     },
     "execution_count": 37,
     "metadata": {},
     "output_type": "execute_result"
    }
   ],
   "source": [
    "s = 'py'\n",
    "id(s)"
   ]
  },
  {
   "cell_type": "code",
   "execution_count": 41,
   "id": "84139d2c-f6d0-45dd-a0de-fa58e5735817",
   "metadata": {},
   "outputs": [
    {
     "name": "stdin",
     "output_type": "stream",
     "text": [
      "나이는?  20\n"
     ]
    },
    {
     "data": {
      "text/plain": [
       "20"
      ]
     },
     "execution_count": 41,
     "metadata": {},
     "output_type": "execute_result"
    }
   ],
   "source": [
    "data = input('나이는? ')\n",
    "data = int(data)\n",
    "data"
   ]
  },
  {
   "cell_type": "code",
   "execution_count": null,
   "id": "2d24d268-4e3b-4d2c-ae31-f5ac0d2dc604",
   "metadata": {},
   "outputs": [],
   "source": []
  }
 ],
 "metadata": {
  "kernelspec": {
   "display_name": "Python 3 (ipykernel)",
   "language": "python",
   "name": "python3"
  },
  "language_info": {
   "codemirror_mode": {
    "name": "ipython",
    "version": 3
   },
   "file_extension": ".py",
   "mimetype": "text/x-python",
   "name": "python",
   "nbconvert_exporter": "python",
   "pygments_lexer": "ipython3",
   "version": "3.12.4"
  }
 },
 "nbformat": 4,
 "nbformat_minor": 5
}
